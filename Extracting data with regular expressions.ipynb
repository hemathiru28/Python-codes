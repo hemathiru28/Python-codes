{
 "cells": [
  {
   "cell_type": "code",
   "execution_count": 51,
   "id": "74bb3024",
   "metadata": {},
   "outputs": [
    {
     "name": "stdout",
     "output_type": "stream",
     "text": [
      "[8001, 3276, 9187, 4280, 3713, 6413, 6016, 8557, 5537, 7432, 6033, 2072, 5211, 4415, 7462, 5129, 8732, 7666, 2587, 4151, 8608, 3778, 6548, 584, 2804, 5207, 571, 4297, 8775, 3032, 6386, 7853, 2953, 7779, 4229, 6553, 9990, 3782, 9593, 3512, 3390, 1296, 2914, 6855, 5942, 2756, 1374, 5642, 7573, 5615, 7129, 5860, 1215, 7032, 6655, 8097, 9672, 4839, 1582, 5550, 6801, 4051, 8627, 4, 1492, 6168, 6596, 8834, 6660, 6897, 5840, 5781, 9633, 2406, 4388, 2424, 5279, 7117, 7539, 9552, 6563, 417, 8437, 3353, 6063, 9906, 2627, 4492, 6835, 2792, 3870, 1450, 7885, 9335, 248, 1185, 8906, 2250, 2410, 6707, 5358, 8561, 6523, 1381, 4323, 4350, 1586, 1413, 4, 3, 42]\n",
      "569056\n"
     ]
    }
   ],
   "source": [
    "import re\n",
    "\n",
    "numlist = list()\n",
    "total = 0\n",
    "data = open('regex_sum_1895510.txt') \n",
    "for line in data: \n",
    "    line = line.rstrip()\n",
    "    num = re.findall('[0-9]+',line)\n",
    "    if len(num) != 0 :\n",
    "        numlist = numlist + num\n",
    "        int_list = [int(i) for i in numlist]\n",
    "print(int_list)\n",
    "\n",
    "for i in int_list:\n",
    "    total = total + i\n",
    "print(total)    \n",
    "\n"
   ]
  },
  {
   "cell_type": "code",
   "execution_count": null,
   "id": "62e435af",
   "metadata": {},
   "outputs": [],
   "source": []
  }
 ],
 "metadata": {
  "kernelspec": {
   "display_name": "Python 3 (ipykernel)",
   "language": "python",
   "name": "python3"
  },
  "language_info": {
   "codemirror_mode": {
    "name": "ipython",
    "version": 3
   },
   "file_extension": ".py",
   "mimetype": "text/x-python",
   "name": "python",
   "nbconvert_exporter": "python",
   "pygments_lexer": "ipython3",
   "version": "3.11.4"
  }
 },
 "nbformat": 4,
 "nbformat_minor": 5
}
