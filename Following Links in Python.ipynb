{
 "cells": [
  {
   "cell_type": "code",
   "execution_count": 44,
   "id": "37eb2173",
   "metadata": {},
   "outputs": [
    {
     "name": "stdout",
     "output_type": "stream",
     "text": [
      "Bentley\n",
      "Rhyley\n",
      "Lennan\n",
      "Leylann\n",
      "Ailey\n",
      "Ismaeel\n",
      "Keris\n"
     ]
    }
   ],
   "source": [
    "import collections\n",
    "collections.Callable = collections.abc.Callable\n",
    "\n",
    "import urllib.request, urllib.parse, urllib.error\n",
    "\n",
    "from bs4 import BeautifulSoup\n",
    "\n",
    "url = 'http://py4e-data.dr-chuck.net/known_by_Rhiannnon.html'\n",
    "count = 7\n",
    "position = 17\n",
    "html = urllib.request.urlopen(url).read()\n",
    "\n",
    "soup = BeautifulSoup(html,\"html.parser\")\n",
    "tags = soup('a')\n",
    "\n",
    "\n",
    "for i in range(count):\n",
    "    link = tags[position].get('href', None)\n",
    "    print(tags[position].contents[0])\n",
    "    html = urllib.request.urlopen(link).read()\n",
    "    soup = BeautifulSoup(html,\"html.parser\")\n",
    "    tags = soup('a')\n",
    "\n"
   ]
  },
  {
   "cell_type": "code",
   "execution_count": null,
   "id": "d8a30ab0",
   "metadata": {},
   "outputs": [],
   "source": [
    "for i in range(0,4):\n",
    "    url = \"http://py4e-data.dr-chuck.net/known_by_Fikret.html\"\n",
    "    html = urllib.request.urlopen(url).read()\n",
    "    soup = BeautifulSoup(html, 'html.parser')\n",
    "# Retrieve all of the anchor tags\n",
    "    tags = soup('a')\n",
    "    for tag in tags:\n",
    "        if curr_count == count :    \n",
    "            name = name + '' + tag.contents[0] \n",
    "            new_url = tag.get('href', None)\n",
    "            curr_count += 1\n",
    "            break\n",
    "        \n",
    "    print(name)\n",
    "    print(new_url)"
   ]
  }
 ],
 "metadata": {
  "kernelspec": {
   "display_name": "Python 3 (ipykernel)",
   "language": "python",
   "name": "python3"
  },
  "language_info": {
   "codemirror_mode": {
    "name": "ipython",
    "version": 3
   },
   "file_extension": ".py",
   "mimetype": "text/x-python",
   "name": "python",
   "nbconvert_exporter": "python",
   "pygments_lexer": "ipython3",
   "version": "3.11.4"
  }
 },
 "nbformat": 4,
 "nbformat_minor": 5
}
