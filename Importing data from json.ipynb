{
 "cells": [
  {
   "cell_type": "code",
   "execution_count": 14,
   "id": "e0a38c04",
   "metadata": {},
   "outputs": [
    {
     "name": "stdout",
     "output_type": "stream",
     "text": [
      "count 50\n",
      "Sum 2321\n"
     ]
    }
   ],
   "source": [
    "import urllib.request, urllib.parse, urllib.error\n",
    "import json\n",
    "\n",
    "\n",
    "url = 'http://py4e-data.dr-chuck.net/comments_1895515.json'\n",
    "uh = urllib.request.urlopen(url)\n",
    "\n",
    "data = uh.read()\n",
    "    \n",
    "info = json.loads(data)\n",
    "#print(json.dumps(info, indent=2))\n",
    "\n",
    "sum = 0\n",
    "for item in info['comments']:\n",
    "    sum = sum + int(item['count'])\n",
    "\n",
    "print('count', len(info['comments']))\n",
    "print('Sum', sum)\n",
    "\n",
    "\n",
    "\n"
   ]
  },
  {
   "cell_type": "code",
   "execution_count": null,
   "id": "636e3991",
   "metadata": {},
   "outputs": [],
   "source": [
    "\n",
    "    for item in info:\n",
    "    print('Name', item['name'])\n",
    "    print('Id', item['id'])\n",
    "    print('Attribute', item['x'])"
   ]
  }
 ],
 "metadata": {
  "kernelspec": {
   "display_name": "Python 3 (ipykernel)",
   "language": "python",
   "name": "python3"
  },
  "language_info": {
   "codemirror_mode": {
    "name": "ipython",
    "version": 3
   },
   "file_extension": ".py",
   "mimetype": "text/x-python",
   "name": "python",
   "nbconvert_exporter": "python",
   "pygments_lexer": "ipython3",
   "version": "3.11.4"
  }
 },
 "nbformat": 4,
 "nbformat_minor": 5
}
