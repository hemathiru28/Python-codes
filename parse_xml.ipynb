{
 "cells": [
  {
   "cell_type": "code",
   "execution_count": 16,
   "id": "13b1e904",
   "metadata": {},
   "outputs": [
    {
     "name": "stdout",
     "output_type": "stream",
     "text": [
      "50\n",
      "2478\n"
     ]
    }
   ],
   "source": [
    "import urllib.request, urllib.parse, urllib.error\n",
    "import xml.etree.ElementTree as ET\n",
    "\n",
    "url = \"http://py4e-data.dr-chuck.net/comments_1895514.xml\"\n",
    "uh = urllib.request.urlopen(url)\n",
    "\n",
    "data =  uh.read()\n",
    "tree = ET.fromstring(data)\n",
    "\n",
    "sum = 0\n",
    "count_tags = tree.findall('.//count')\n",
    "for i in range(len(count_tags)):\n",
    "    count_value = count_tags[i].text\n",
    "    sum = sum + int(count_value)\n",
    "print(len(count_tags))\n",
    "print(sum) \n",
    "   "
   ]
  },
  {
   "cell_type": "code",
   "execution_count": null,
   "id": "f2164b99",
   "metadata": {},
   "outputs": [],
   "source": [
    "for i in range(len(count_tags)):\n",
    "    count_value = count_tags[i].find('count').text\n",
    "    lat = results[0].find('geometry').text\n",
    "    sum = sum + count_value\n",
    "print(sum) "
   ]
  }
 ],
 "metadata": {
  "kernelspec": {
   "display_name": "Python 3 (ipykernel)",
   "language": "python",
   "name": "python3"
  },
  "language_info": {
   "codemirror_mode": {
    "name": "ipython",
    "version": 3
   },
   "file_extension": ".py",
   "mimetype": "text/x-python",
   "name": "python",
   "nbconvert_exporter": "python",
   "pygments_lexer": "ipython3",
   "version": "3.11.4"
  }
 },
 "nbformat": 4,
 "nbformat_minor": 5
}
